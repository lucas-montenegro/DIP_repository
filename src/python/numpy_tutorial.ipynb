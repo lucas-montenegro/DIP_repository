{
  "nbformat": 4,
  "nbformat_minor": 0,
  "metadata": {
    "colab": {
      "name": "numpy_tutorial.ipynb",
      "provenance": [],
      "collapsed_sections": []
    },
    "kernelspec": {
      "name": "python3",
      "display_name": "Python 3"
    },
    "language_info": {
      "name": "python"
    }
  },
  "cells": [
    {
      "cell_type": "code",
      "metadata": {
        "id": "MmV2B6gT9CW0"
      },
      "source": [
        "import numpy as np"
      ],
      "execution_count": 77,
      "outputs": []
    },
    {
      "cell_type": "code",
      "metadata": {
        "colab": {
          "base_uri": "https://localhost:8080/"
        },
        "id": "WS2LCd__9poE",
        "outputId": "1ee3e438-19b6-460d-b587-48fdae3523d6"
      },
      "source": [
        "#How to create an empty and a full NumPy array?\n",
        "empty_arr = np.array([])\n",
        "full_arr = np.array([[1, 2, 3], [4, 5, 6], [7, 8, 9]])\n",
        "\n",
        "print(empty_arr)\n",
        "print(full_arr)"
      ],
      "execution_count": 28,
      "outputs": [
        {
          "output_type": "stream",
          "text": [
            "[]\n",
            "[[1 2 3]\n",
            " [4 5 6]\n",
            " [7 8 9]]\n"
          ],
          "name": "stdout"
        }
      ]
    },
    {
      "cell_type": "code",
      "metadata": {
        "colab": {
          "base_uri": "https://localhost:8080/"
        },
        "id": "tkmwDbqU9qSn",
        "outputId": "8cf54da0-e8b7-40ca-e6e2-8d48d1430492"
      },
      "source": [
        "#Create a Numpy array filled with all zeros\n",
        "arr = np.zeros([3, 3], dtype = int)\n",
        "print(arr)"
      ],
      "execution_count": 29,
      "outputs": [
        {
          "output_type": "stream",
          "text": [
            "[[0 0 0]\n",
            " [0 0 0]\n",
            " [0 0 0]]\n"
          ],
          "name": "stdout"
        }
      ]
    },
    {
      "cell_type": "code",
      "metadata": {
        "colab": {
          "base_uri": "https://localhost:8080/"
        },
        "id": "C4n9y4bu9qXa",
        "outputId": "508a2180-2c2e-4716-88c7-315ebe1a68b1"
      },
      "source": [
        "#Create a Numpy array filled with all ones\n",
        "arr = np.ones([3, 3], dtype = int)\n",
        "print(arr)"
      ],
      "execution_count": 30,
      "outputs": [
        {
          "output_type": "stream",
          "text": [
            "[[1 1 1]\n",
            " [1 1 1]\n",
            " [1 1 1]]\n"
          ],
          "name": "stdout"
        }
      ]
    },
    {
      "cell_type": "code",
      "metadata": {
        "colab": {
          "base_uri": "https://localhost:8080/"
        },
        "id": "6x1ZRlJk9q-O",
        "outputId": "b6b7ddae-40be-41c0-e85b-b7b06a42b0cf"
      },
      "source": [
        "#Check whether a Numpy array contains a specified row\n",
        "arr = np.ones([3, 3], dtype = int) # 3x3 array filled with ones \n",
        "row_1 = [1, 1, 1]\n",
        "row_2 = [1, 1, 0]\n",
        "\n",
        "print(arr)\n",
        "print(row_1 in arr.tolist())\n",
        "print(row_2 in arr.tolist())"
      ],
      "execution_count": 32,
      "outputs": [
        {
          "output_type": "stream",
          "text": [
            "[[1 1 1]\n",
            " [1 1 1]\n",
            " [1 1 1]]\n",
            "True\n",
            "False\n"
          ],
          "name": "stdout"
        }
      ]
    },
    {
      "cell_type": "code",
      "metadata": {
        "colab": {
          "base_uri": "https://localhost:8080/"
        },
        "id": "GU_CbxD49rJu",
        "outputId": "120ee0a8-1139-47ad-8bef-86741329c3d4"
      },
      "source": [
        "#How to Remove rows in Numpy array that contains non-numeric values?\n",
        "arr = np.array([[1, np.nan, 3], [4, np.nan, np.nan], [7, 8, 9]])\n",
        "print(arr)\n",
        "  \n",
        "arr = arr[~np.isnan(arr).any(axis=1)]# removing rows with nan values \n",
        "print(arr)"
      ],
      "execution_count": 36,
      "outputs": [
        {
          "output_type": "stream",
          "text": [
            "[[ 1. nan  3.]\n",
            " [ 4. nan nan]\n",
            " [ 7.  8.  9.]]\n",
            "[[7. 8. 9.]]\n"
          ],
          "name": "stdout"
        }
      ]
    },
    {
      "cell_type": "code",
      "metadata": {
        "colab": {
          "base_uri": "https://localhost:8080/"
        },
        "id": "eS9J0nLB9rS7",
        "outputId": "bc23e315-df50-40db-9dfb-0383fb7956cd"
      },
      "source": [
        "#Remove single-dimensional entries from the shape of an array\n",
        "arr = np.array([[[1, 2, 3], [4, 5, 6]]])\n",
        "print(arr.shape)\n",
        "arr = arr.squeeze()\n",
        "print(arr.shape)"
      ],
      "execution_count": 43,
      "outputs": [
        {
          "output_type": "stream",
          "text": [
            "(1, 2, 3)\n",
            "(2, 3)\n"
          ],
          "name": "stdout"
        }
      ]
    },
    {
      "cell_type": "code",
      "metadata": {
        "colab": {
          "base_uri": "https://localhost:8080/"
        },
        "id": "6QkJbQNt9raV",
        "outputId": "09b185b2-dd15-47ee-e1af-38ba82d1773c"
      },
      "source": [
        "#Find the number of occurrences of a sequence in a NumPy array\n",
        "arr = np.array([[1, 2, 3], [4, 5, 6], [1, 3, 2], [3, 1, 2]])\n",
        "print(arr)\n",
        "sequence = \"1, 2\"\n",
        "print(repr(arr).count(sequence))"
      ],
      "execution_count": 54,
      "outputs": [
        {
          "output_type": "stream",
          "text": [
            "[[1 2 3]\n",
            " [4 5 6]\n",
            " [1 3 2]\n",
            " [3 1 2]]\n",
            "2\n"
          ],
          "name": "stdout"
        }
      ]
    },
    {
      "cell_type": "code",
      "metadata": {
        "colab": {
          "base_uri": "https://localhost:8080/"
        },
        "id": "oiwd4-1J9riF",
        "outputId": "98fd3ce2-b8e9-4f9b-bbcf-52f69f96be15"
      },
      "source": [
        "#Find the most frequent value in a NumPy array\n",
        "arr = np.array([1, 2, 3, 4, 5, 6, 1, 3, 2, 3, 1, 2])\n",
        "print(arr)\n",
        "\n",
        "element_count = np.bincount(arr)\n",
        "index = 0\n",
        "\n",
        "while index < len(element_count):\n",
        "    if element_count[index] == max(element_count):\n",
        "      print(index, end=\" \")\n",
        "\n",
        "    index += 1"
      ],
      "execution_count": 68,
      "outputs": [
        {
          "output_type": "stream",
          "text": [
            "[1 2 3 4 5 6 1 3 2 3 1 2]\n",
            "1 2 3 "
          ],
          "name": "stdout"
        }
      ]
    },
    {
      "cell_type": "code",
      "metadata": {
        "colab": {
          "base_uri": "https://localhost:8080/"
        },
        "id": "82MDZ8KH9rpO",
        "outputId": "2e32e300-cd47-4978-e109-49789d29e472"
      },
      "source": [
        "#Combining a one and a two-dimensional NumPy Array\n",
        "arr_1d = np.array([1, 2, 3])\n",
        "arr_2d = np.array([[4, 5, 6], [7, 8, 9]])\n",
        "\n",
        "for (i, j) in np.nditer([arr_1d, arr_2d]):\n",
        "  print(i, j)"
      ],
      "execution_count": 70,
      "outputs": [
        {
          "output_type": "stream",
          "text": [
            "1 4\n",
            "2 5\n",
            "3 6\n",
            "1 7\n",
            "2 8\n",
            "3 9\n"
          ],
          "name": "stdout"
        }
      ]
    },
    {
      "cell_type": "code",
      "metadata": {
        "colab": {
          "base_uri": "https://localhost:8080/"
        },
        "id": "8ne2Zcji9rwA",
        "outputId": "c1b697e6-d1d3-404b-a2f7-269196b96153"
      },
      "source": [
        "#How to build an array of all combinations of two NumPy arrays?\n",
        "arr_1 = np.array([1, 2, 3])\n",
        "arr_2 = np.array([4, 5, 6])\n",
        "\n",
        "print(np.array(np.meshgrid(arr_1, arr_2)).T.reshape(-1, 2))"
      ],
      "execution_count": 87,
      "outputs": [
        {
          "output_type": "stream",
          "text": [
            "[[1 4]\n",
            " [1 5]\n",
            " [1 6]\n",
            " [2 4]\n",
            " [2 5]\n",
            " [2 6]\n",
            " [3 4]\n",
            " [3 5]\n",
            " [3 6]]\n"
          ],
          "name": "stdout"
        }
      ]
    },
    {
      "cell_type": "code",
      "metadata": {
        "colab": {
          "base_uri": "https://localhost:8080/"
        },
        "id": "cJxAwZGU9r2P",
        "outputId": "33eb833e-18ba-4864-caed-9c98be1ee740"
      },
      "source": [
        "#How to add a border around a NumPy array?\n",
        "arr = np.array([[1, 2, 3], [4, 5, 6]])\n",
        "print(arr)\n",
        "  \n",
        "arr = np.pad(arr, pad_width=1, mode='constant', constant_values=-1)\n",
        "print(arr)"
      ],
      "execution_count": 90,
      "outputs": [
        {
          "output_type": "stream",
          "text": [
            "[[1 2 3]\n",
            " [4 5 6]]\n",
            "[[-1 -1 -1 -1 -1]\n",
            " [-1  1  2  3 -1]\n",
            " [-1  4  5  6 -1]\n",
            " [-1 -1 -1 -1 -1]]\n"
          ],
          "name": "stdout"
        }
      ]
    },
    {
      "cell_type": "code",
      "metadata": {
        "colab": {
          "base_uri": "https://localhost:8080/"
        },
        "id": "MmURJcYBWPff",
        "outputId": "37939c0c-d353-431e-d5f2-18384a47dac9"
      },
      "source": [
        "#How to compare two NumPy arrays?\n",
        "arr_1 = np.array([1, 2, 3])\n",
        "arr_2 = np.array([4, 5, 6])\n",
        "\n",
        "comparison = (arr_1 == arr_2)\n",
        "\n",
        "if comparison.all():\n",
        "  print('Iguais')\n",
        "else:\n",
        "  print('Diferentes')"
      ],
      "execution_count": 94,
      "outputs": [
        {
          "output_type": "stream",
          "text": [
            "Diferentes\n"
          ],
          "name": "stdout"
        }
      ]
    },
    {
      "cell_type": "code",
      "metadata": {
        "colab": {
          "base_uri": "https://localhost:8080/"
        },
        "id": "8VeVQNVyYgUX",
        "outputId": "1f9687a6-49ed-43ef-ad08-ac09b0692fe9"
      },
      "source": [
        "#How to check whether specified values are present in NumPy array?\n",
        "arr = np.array([1, 2, 3])\n",
        "\n",
        "print(1 in arr)\n",
        "print(4 in arr)"
      ],
      "execution_count": 96,
      "outputs": [
        {
          "output_type": "stream",
          "text": [
            "True\n",
            "False\n"
          ],
          "name": "stdout"
        }
      ]
    },
    {
      "cell_type": "code",
      "metadata": {
        "colab": {
          "base_uri": "https://localhost:8080/"
        },
        "id": "A8h3d8VhYgiw",
        "outputId": "05207e89-0489-471d-8410-47346e4eef1d"
      },
      "source": [
        "#How to get all 2D diagonals of a 3D NumPy array?\n",
        "arr = np.arange(3 * 3 * 3).reshape(3, 3, 3)\n",
        "print(arr)  \n",
        "print('--------------------------------------')\n",
        "\n",
        "diagonals = np.diagonal(arr)\n",
        "print(diagonals)\n"
      ],
      "execution_count": 108,
      "outputs": [
        {
          "output_type": "stream",
          "text": [
            "[[[ 0  1  2]\n",
            "  [ 3  4  5]\n",
            "  [ 6  7  8]]\n",
            "\n",
            " [[ 9 10 11]\n",
            "  [12 13 14]\n",
            "  [15 16 17]]\n",
            "\n",
            " [[18 19 20]\n",
            "  [21 22 23]\n",
            "  [24 25 26]]]\n",
            "--------------------------------------\n",
            "[[ 0 12 24]\n",
            " [ 1 13 25]\n",
            " [ 2 14 26]]\n"
          ],
          "name": "stdout"
        }
      ]
    },
    {
      "cell_type": "code",
      "metadata": {
        "colab": {
          "base_uri": "https://localhost:8080/"
        },
        "id": "XrJXqCImYgrO",
        "outputId": "021c0606-c9c1-47af-8cde-0dc98e384b90"
      },
      "source": [
        "#Flatten a Matrix in Python using NumPy\n",
        "arr = np.array([[1, 2, 3], [4, 5, 6]])\n",
        "print(arr)\n",
        "\n",
        "arr = arr.flatten()\n",
        "print(arr)"
      ],
      "execution_count": 110,
      "outputs": [
        {
          "output_type": "stream",
          "text": [
            "[[1 2 3]\n",
            " [4 5 6]]\n",
            "[1 2 3 4 5 6]\n"
          ],
          "name": "stdout"
        }
      ]
    },
    {
      "cell_type": "code",
      "metadata": {
        "colab": {
          "base_uri": "https://localhost:8080/"
        },
        "id": "j-3sCA_bYgyn",
        "outputId": "94f10ac6-8664-466d-94ad-93646b798932"
      },
      "source": [
        "#Flatten a 2d numpy array into 1d array\n",
        "# basically the same thing that the question above does, so I just repeated the flatten() method\n",
        "arr = np.array([[1, 2, 3], [4, 5, 6]])\n",
        "print(arr)\n",
        "\n",
        "arr = arr.flatten()\n",
        "print(arr)"
      ],
      "execution_count": 111,
      "outputs": [
        {
          "output_type": "stream",
          "text": [
            "[[1 2 3]\n",
            " [4 5 6]]\n",
            "[1 2 3 4 5 6]\n"
          ],
          "name": "stdout"
        }
      ]
    },
    {
      "cell_type": "code",
      "metadata": {
        "colab": {
          "base_uri": "https://localhost:8080/"
        },
        "id": "HVVvTvdCYg5q",
        "outputId": "437ad836-941a-4904-dbd8-a2c79d154ed4"
      },
      "source": [
        "#Move axes of an array to new positions\n",
        "arr = np.array([[1, 2, 3], [4, 5, 6]])  \n",
        "print(arr.shape)\n",
        "\n",
        "arr = np.moveaxis(arr, 0, 1)\n",
        "print(arr.shape)"
      ],
      "execution_count": 130,
      "outputs": [
        {
          "output_type": "stream",
          "text": [
            "(2, 3)\n",
            "(3, 2)\n"
          ],
          "name": "stdout"
        }
      ]
    },
    {
      "cell_type": "code",
      "metadata": {
        "colab": {
          "base_uri": "https://localhost:8080/"
        },
        "id": "SGnglfA2YhAR",
        "outputId": "598918fc-9c33-4b82-a1e0-614da010ff1f"
      },
      "source": [
        "#Interchange two axes of an array\n",
        "#Pretty much the same thing, but the method swapaxes swap two axes while moveaxis can move the position of more than 2 axes\n",
        "arr = np.array([[1, 2, 3], [4, 5, 6]])  \n",
        "print(arr.shape)\n",
        "\n",
        "arr = np.swapaxes(arr, 0, 1)\n",
        "print(arr.shape)"
      ],
      "execution_count": 132,
      "outputs": [
        {
          "output_type": "stream",
          "text": [
            "(2, 3)\n",
            "(3, 2)\n"
          ],
          "name": "stdout"
        }
      ]
    },
    {
      "cell_type": "code",
      "metadata": {
        "colab": {
          "base_uri": "https://localhost:8080/"
        },
        "id": "L1HUDDn5YhGp",
        "outputId": "7aa7804f-70b2-48f4-d971-19b8a00e4f66"
      },
      "source": [
        "#NumPy – Fibonacci Series using Binet Formula\n",
        "n = int(input(\"Enter the value of n: \"))\n",
        "fibonacci_numbers = np.arange(0, n)\n",
        "\n",
        "alpha = (1 + np.sqrt(5)) / 2\n",
        "beta = (1 - np.sqrt(5)) / 2\n",
        "fn = ((alpha ** fibonacci_numbers) - (beta ** fibonacci_numbers)) * (1 / np.sqrt(5))\n",
        "\n",
        "print(\"These are the numbers of the first n fibonacci series:\")\n",
        "print(fn)"
      ],
      "execution_count": 145,
      "outputs": [
        {
          "output_type": "stream",
          "text": [
            "Enter the value of n: 10\n",
            "These are the numbers of the first n fibonacci series:\n",
            "[ 0.  1.  1.  2.  3.  5.  8. 13. 21. 34.]\n"
          ],
          "name": "stdout"
        }
      ]
    },
    {
      "cell_type": "code",
      "metadata": {
        "colab": {
          "base_uri": "https://localhost:8080/"
        },
        "id": "ryBsTlcOYhNB",
        "outputId": "41bbb78d-1504-466d-cb32-fab67b70d947"
      },
      "source": [
        "#Counts the number of non-zero values in the array\n",
        "arr = np.array([1, 2, 3, 0, 1, 2, 0, 3, 40, 0, 2])\n",
        "print(np.count_nonzero(arr))"
      ],
      "execution_count": 146,
      "outputs": [
        {
          "output_type": "stream",
          "text": [
            "8\n"
          ],
          "name": "stdout"
        }
      ]
    },
    {
      "cell_type": "code",
      "metadata": {
        "colab": {
          "base_uri": "https://localhost:8080/"
        },
        "id": "ZiyT0XgvYhTM",
        "outputId": "c6239967-f5d2-438c-a073-7eb481618f62"
      },
      "source": [
        "#Count the number of elements along a given axis\n",
        "arr = np.array([[1, 2, 3], [4, 5, 6]]) \n",
        "\n",
        "print(np.size(arr, 0)) # x-axis\n",
        "print(np.size(arr, 1)) # y-axis"
      ],
      "execution_count": 147,
      "outputs": [
        {
          "output_type": "stream",
          "text": [
            "2\n",
            "3\n"
          ],
          "name": "stdout"
        }
      ]
    },
    {
      "cell_type": "code",
      "metadata": {
        "colab": {
          "base_uri": "https://localhost:8080/"
        },
        "id": "o3hpEFtKsfOX",
        "outputId": "be9ae0a7-8bf1-4aa1-d46a-5b6131619ba0"
      },
      "source": [
        "#Trim the leading and/or trailing zeros from a 1-D array\n",
        "arr = np.array([0, 0, 1, 2, 3, 0, 1, 2, 0, 3, 40, 0, 2, 0])\n",
        "print(arr)\n",
        "\n",
        "arr = np.trim_zeros(arr)\n",
        "print(arr)"
      ],
      "execution_count": 151,
      "outputs": [
        {
          "output_type": "stream",
          "text": [
            "[ 0  0  1  2  3  0  1  2  0  3 40  0  2  0]\n",
            "[ 1  2  3  0  1  2  0  3 40  0  2]\n"
          ],
          "name": "stdout"
        }
      ]
    },
    {
      "cell_type": "code",
      "metadata": {
        "colab": {
          "base_uri": "https://localhost:8080/"
        },
        "id": "AhHpyMMzsfb-",
        "outputId": "4cdfff17-e69b-4da9-8f1f-d1d0b7b3ed15"
      },
      "source": [
        "#Change data type of given numpy array\n",
        "arr = np.array([1, 2, 3])\n",
        "print(arr.dtype)\n",
        "\n",
        "arr = arr.astype('bool')\n",
        "print(arr.dtype)"
      ],
      "execution_count": 156,
      "outputs": [
        {
          "output_type": "stream",
          "text": [
            "int64\n",
            "bool\n",
            "[ True  True  True]\n"
          ],
          "name": "stdout"
        }
      ]
    },
    {
      "cell_type": "code",
      "metadata": {
        "colab": {
          "base_uri": "https://localhost:8080/"
        },
        "id": "3oN2j__msfkm",
        "outputId": "23f172f0-cd87-422b-d59f-3dce80861ae3"
      },
      "source": [
        "#Reverse a numpy array\n",
        "arr = np.array([1, 2, 3])\n",
        "print(arr)\n",
        "\n",
        "arr = np.flipud(arr)\n",
        "print(arr)"
      ],
      "execution_count": 158,
      "outputs": [
        {
          "output_type": "stream",
          "text": [
            "[1 2 3]\n",
            "[3 2 1]\n"
          ],
          "name": "stdout"
        }
      ]
    },
    {
      "cell_type": "code",
      "metadata": {
        "colab": {
          "base_uri": "https://localhost:8080/"
        },
        "id": "3GuZ50ivsfrf",
        "outputId": "d5643568-8688-4720-d1c8-96fb1199f06e"
      },
      "source": [
        "#How to make a NumPy array read-only?\n",
        "arr = np.array([1, 2, 3])\n",
        "print(arr)\n",
        "\n",
        "arr[0] = 10\n",
        "print(arr)\n",
        "\n",
        "arr.flags.writeable = False\n",
        "#arr[0] = 2 #uncomment to see the error"
      ],
      "execution_count": 161,
      "outputs": [
        {
          "output_type": "stream",
          "text": [
            "[1 2 3]\n",
            "[10  2  3]\n"
          ],
          "name": "stdout"
        }
      ]
    },
    {
      "cell_type": "code",
      "metadata": {
        "colab": {
          "base_uri": "https://localhost:8080/"
        },
        "id": "2KDrl-5AsfyD",
        "outputId": "87171ba1-a549-4cdf-84fe-b6b9c9bbbc3a"
      },
      "source": [
        "#Get the maximum value from given matrix\n",
        "arr = np.arange(10).reshape(2, 5)\n",
        "print(arr)\n",
        "print(np.max(arr))"
      ],
      "execution_count": 165,
      "outputs": [
        {
          "output_type": "stream",
          "text": [
            "[[0 1 2 3 4]\n",
            " [5 6 7 8 9]]\n",
            "9\n"
          ],
          "name": "stdout"
        }
      ]
    },
    {
      "cell_type": "code",
      "metadata": {
        "colab": {
          "base_uri": "https://localhost:8080/"
        },
        "id": "PfbJsOrYsf36",
        "outputId": "be98aef5-d45a-4853-df92-64666bb8d04b"
      },
      "source": [
        "#Get the minimum value from given matrix\n",
        "arr = np.arange(10).reshape(2, 5)\n",
        "print(arr)\n",
        "print(np.min(arr))"
      ],
      "execution_count": 166,
      "outputs": [
        {
          "output_type": "stream",
          "text": [
            "[[0 1 2 3 4]\n",
            " [5 6 7 8 9]]\n",
            "0\n"
          ],
          "name": "stdout"
        }
      ]
    },
    {
      "cell_type": "code",
      "metadata": {
        "colab": {
          "base_uri": "https://localhost:8080/"
        },
        "id": "TvAyT03osf-B",
        "outputId": "86f3d6c5-d11c-4e65-af8c-53564df10151"
      },
      "source": [
        "#Find the number of rows and columns of a given matrix using NumPy\n",
        "arr = np.arange(10).reshape(2, 5)\n",
        "print(arr.shape)"
      ],
      "execution_count": 167,
      "outputs": [
        {
          "output_type": "stream",
          "text": [
            "(2, 5)\n"
          ],
          "name": "stdout"
        }
      ]
    },
    {
      "cell_type": "code",
      "metadata": {
        "colab": {
          "base_uri": "https://localhost:8080/"
        },
        "id": "yV350JN2sgET",
        "outputId": "72e4a26e-9fff-4acd-da13-7d77fd0a94d6"
      },
      "source": [
        "#Select the elements from a given matrix\n",
        "arr = np.arange(10).reshape(2, 5)\n",
        "print(arr)\n",
        "print(arr[0][2])\n",
        "print(arr[1][1])"
      ],
      "execution_count": 169,
      "outputs": [
        {
          "output_type": "stream",
          "text": [
            "[[0 1 2 3 4]\n",
            " [5 6 7 8 9]]\n",
            "2\n",
            "6\n"
          ],
          "name": "stdout"
        }
      ]
    },
    {
      "cell_type": "code",
      "metadata": {
        "colab": {
          "base_uri": "https://localhost:8080/"
        },
        "id": "9nvJzfPQsgJw",
        "outputId": "7c9c7ae1-cb9b-4d6b-df58-d843e4158dd4"
      },
      "source": [
        "#Find the sum of values in a matrix\n",
        "arr = np.arange(10).reshape(2, 5)\n",
        "print(arr)\n",
        "print(np.sum(arr))"
      ],
      "execution_count": 170,
      "outputs": [
        {
          "output_type": "stream",
          "text": [
            "[[0 1 2 3 4]\n",
            " [5 6 7 8 9]]\n",
            "45\n"
          ],
          "name": "stdout"
        }
      ]
    },
    {
      "cell_type": "code",
      "metadata": {
        "id": "41yoB4BwuqdX"
      },
      "source": [
        ""
      ],
      "execution_count": null,
      "outputs": []
    },
    {
      "cell_type": "code",
      "metadata": {
        "id": "R1diJw-Quqku"
      },
      "source": [
        ""
      ],
      "execution_count": null,
      "outputs": []
    },
    {
      "cell_type": "code",
      "metadata": {
        "id": "2ZN-dB--uqqx"
      },
      "source": [
        ""
      ],
      "execution_count": null,
      "outputs": []
    }
  ]
}